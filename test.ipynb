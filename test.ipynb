{
 "cells": [
  {
   "cell_type": "code",
   "execution_count": 35,
   "metadata": {},
   "outputs": [],
   "source": [
    "# imports all requirements\n",
    "import pyttsx3, PyPDF2, os, time"
   ]
  },
  {
   "cell_type": "code",
   "execution_count": 36,
   "metadata": {},
   "outputs": [
    {
     "name": "stdout",
     "output_type": "stream",
     "text": [
      "./PDF_files/Accommodative-esotropia.pdf\n"
     ]
    }
   ],
   "source": [
    "# Gets an input path from the user\n",
    "pdf_input = input(\"Enter the relative path of the pdf file, Eg: './PDF_files/piano_guide.pdf': , ./PDF_files/30-days-of-react-ebook-fullstackio.pdf \")\n",
    "react_pdf_path = \"./PDF_files/30-days-of-react-ebook-fullstackio.pdf\"\n",
    "esotropia_path = \"./PDF_files/Accommodative-esotropia.pdf\" \n",
    "\n",
    "print(pdf_input)"
   ]
  },
  {
   "cell_type": "code",
   "execution_count": 37,
   "metadata": {},
   "outputs": [
    {
     "name": "stdout",
     "output_type": "stream",
     "text": [
      "6983\n"
     ]
    }
   ],
   "source": [
    "page_waiting = \" Going to the next page in 3 second. \"\n",
    "\n",
    "# A funtion that extracts text from any PDF\n",
    "def get_text_from_pdf(pdf_path):\n",
    "    # To open a PDF, do the following\n",
    "    with open(pdf_path, \"rb\") as pdf_file:\n",
    "        pdf_reader = PyPDF2.PdfReader(pdf_file)\n",
    "        # Code to extract text from PDF\n",
    "        master_list = []\n",
    "        for page_num in range( len(pdf_reader.pages)):\n",
    "            clean_text_list = pdf_reader.pages[page_num].extract_text().strip().replace(\"\\n\", \" \") #This gets each page  and then extracts its text from it, strippiing down new line marks and unnecessary spaces at end of the page.\n",
    "            master_list.append(clean_text_list)\n",
    "            clean_text = page_waiting.join(master_list)\n",
    "            #print(clean_text)\n",
    "    return clean_text\n",
    "print(len(get_text_from_pdf(pdf_input)))\n"
   ]
  },
  {
   "cell_type": "code",
   "execution_count": 38,
   "metadata": {},
   "outputs": [
    {
     "name": "stdout",
     "output_type": "stream",
     "text": [
      "Accommodative-esotropia\n"
     ]
    }
   ],
   "source": [
    "def get_file_name(pdf_path):\n",
    "    global name, extenx\n",
    "    file_name = os.path.basename(pdf_path)\n",
    "    name, extenx = os.path.splitext(file_name)\n",
    "    return name\n",
    "\n",
    "\n",
    "def onEnd_page_waiting(name, completed = True):\n",
    "    print(\"finishing: \", name, completed)\n",
    "    if name == page_waiting:\n",
    "        time.sleep(3)\n",
    "    else:\n",
    "        pass\n",
    "    \n",
    "print(get_file_name(pdf_input))"
   ]
  },
  {
   "cell_type": "code",
   "execution_count": 39,
   "metadata": {},
   "outputs": [
    {
     "name": "stdout",
     "output_type": "stream",
     "text": [
      "An ./audios/Accommodative-esotropia.mp3 already exists for this PDF in the desired directory.\n",
      "ID: HKEY_LOCAL_MACHINE\\SOFTWARE\\Microsoft\\Speech\\Voices\\Tokens\\TTS_MS_EN-US_DAVID_11.0\n",
      "ID: HKEY_LOCAL_MACHINE\\SOFTWARE\\Microsoft\\Speech\\Voices\\Tokens\\TTS_MS_EN-US_ZIRA_11.0\n"
     ]
    }
   ],
   "source": [
    "def create_audio():\n",
    "    # Next is to call our speaker to read the clean text\n",
    "    # Intitialize a speaker\n",
    "    try:\n",
    "        # Initializes the speaker\n",
    "        speaker = pyttsx3.init()\n",
    "        voice_id =\"HKEY_LOCAL_MACHINE\\SOFTWARE\\Microsoft\\Speech\\Voices\\Tokens\\TTS_MS_EN-US_ZIRA_11.0\"\n",
    "        # Gets the file name and the name to save audio file as\n",
    "        get_file_name(pdf_input) # returns the name of the file without an extension\n",
    "        text_to_speak = get_text_from_pdf(pdf_input)\n",
    "        list_of_text_to_speak = text_to_speak.split(page_waiting)\n",
    "        audio_file = f\"./audios/{name}.mp3\"\n",
    "        # Checks if the audio file exists in the directory and then runs the code for creating one if it doesn't exist\n",
    "        if os.path.exists(audio_file):\n",
    "            print(f\"An {audio_file} already exists for this PDF in the desired directory.\")\n",
    "        else:\n",
    "            speaker.setProperty(\"voice\", voice_id)\n",
    "            speaker.setProperty(\"rate\", 140)\n",
    "            speaker.connect(page_waiting, onEnd_page_waiting(page_waiting))\n",
    "            \n",
    "            speaker.save_to_file(text_to_speak, audio_file)\n",
    "            speaker.runAndWait()\n",
    "            speaker.stop()\n",
    "            print(f\"The audio file {audio_file} has been successfully created\")\n",
    "    except Exception as e:\n",
    "        print(f\"Oops! Something went wrong. The audio file {audio_file} can not be created because {e}.\")\n",
    "    finally:\n",
    "        voices = speaker.getProperty(\"voices\")\n",
    "        for voice in voices:\n",
    "            print( \"ID: %s\" %voice.id)\n",
    "\n",
    "create_audio()"
   ]
  }
 ],
 "metadata": {
  "kernelspec": {
   "display_name": ".venv",
   "language": "python",
   "name": "python3"
  },
  "language_info": {
   "codemirror_mode": {
    "name": "ipython",
    "version": 3
   },
   "file_extension": ".py",
   "mimetype": "text/x-python",
   "name": "python",
   "nbconvert_exporter": "python",
   "pygments_lexer": "ipython3",
   "version": "3.9.2"
  },
  "orig_nbformat": 4
 },
 "nbformat": 4,
 "nbformat_minor": 2
}
